{
  "nbformat": 4,
  "nbformat_minor": 0,
  "metadata": {
    "colab": {
      "provenance": [],
      "collapsed_sections": [],
      "authorship_tag": "ABX9TyPv5tys9ZdBZN5Hg5jFImsZ",
      "include_colab_link": true
    },
    "kernelspec": {
      "name": "python3",
      "display_name": "Python 3"
    },
    "language_info": {
      "name": "python"
    }
  },
  "cells": [
    {
      "cell_type": "markdown",
      "metadata": {
        "id": "view-in-github",
        "colab_type": "text"
      },
      "source": [
        "<a href=\"https://colab.research.google.com/github/ccmkaaa/colab/blob/main/dz/7_dz_(Classes).ipynb\" target=\"_parent\"><img src=\"https://colab.research.google.com/assets/colab-badge.svg\" alt=\"Open In Colab\"/></a>"
      ]
    },
    {
      "cell_type": "markdown",
      "source": [
        "**Auto:**"
      ],
      "metadata": {
        "id": "UAL1K8qBdCXz"
      }
    },
    {
      "cell_type": "code",
      "execution_count": null,
      "metadata": {
        "id": "dQfJCfFtc9_W"
      },
      "outputs": [],
      "source": [
        "import requests"
      ]
    },
    {
      "cell_type": "code",
      "source": [
        "# 1-2 Задания\n",
        "class Rate:\n",
        "  def __init__(self, format_='value'):\n",
        "    self.format = format_\n",
        "    self.__diff=False\n",
        "  \n",
        "  def exchange_rates(self):\n",
        "    self.r = requests.get('https://www.cbr-xml-daily.ru/daily_json.js')\n",
        "    return self.r.json()['Valute']\n",
        "  \n",
        "  def make_format(self, currency):\n",
        "    response = self.exchange_rates()\n",
        "\n",
        "    if currency in response:\n",
        "      if self.format == 'full':\n",
        "        return response[currency]\n",
        "\n",
        "  def return_max_currency_name(self):          # для 1-ого Задания\n",
        "    \"\"\"\n",
        "    Возвращает имя валюты по макс. курсу\n",
        "    \"\"\"\n",
        "    response = self.exchange_rates()\n",
        "    key = max(response, key=lambda item: response[item]['Value']) # max(d['Value'] for d in response.values())\n",
        "    return response.get(key)['Name']\n",
        "\n",
        "  def __diff_change(self):                    # для 2-ого Задания (Работает по типу \"вкл/выкл\" (или фонаря)) после каждого вывода информации о валюте)\n",
        "    \"\"\"\n",
        "    Меняет состояние атт. __diff (и возвращает его)\n",
        "    \"\"\"\n",
        "    self.__diff = False if self.__diff else True\n",
        "    return self.__diff\n",
        "\n",
        "  def __currency_diff_use(self, currency):       ## Возвращает инфо выбранной валюты\n",
        "    \"\"\"\n",
        "    Возвращает либо разницу, либо полную информацию о валюте\n",
        "    \"\"\"\n",
        "    if not self.__diff_change():\n",
        "      currency_ = self.make_format(currency)\n",
        "      currency_['Difference'] = currency_['Value'] - currency_['Previous']\n",
        "      del currency_['Previous']\n",
        "      del currency_['Value']\n",
        "      #return currency_['Value'] - currency_['Previous']    # возвращает просто разницу\n",
        "      return currency_                                      # возвращает описание\n",
        "    else:\n",
        "      return self.make_format(currency)\n",
        "  #\n",
        "  def eur(self):\n",
        "    return self.__currency_diff_use('EUR')\n",
        "\n",
        "  def usd(self):\n",
        "     return self.__currency_diff_use('USD')\n",
        "\n",
        "  def brl(self):\n",
        "     return self.__currency_diff_use('BRL')"
      ],
      "metadata": {
        "id": "MSLbFpVmepRz"
      },
      "execution_count": null,
      "outputs": []
    },
    {
      "cell_type": "code",
      "source": [
        "r = Rate(format_='full')                   # 1-ое\n",
        "print(r.return_max_currency_name())"
      ],
      "metadata": {
        "colab": {
          "base_uri": "https://localhost:8080/"
        },
        "id": "g4BGw5EPiyHU",
        "outputId": "997b8093-3ed7-49ea-887e-20b1ff350499"
      },
      "execution_count": null,
      "outputs": [
        {
          "output_type": "stream",
          "name": "stdout",
          "text": [
            "Китайских юаней\n"
          ]
        }
      ]
    },
    {
      "cell_type": "code",
      "source": [
        "r = Rate(format_='full')                   # 2-ое\n",
        "print(r.eur())\n",
        "print(r.eur())\n",
        "print(r.eur())"
      ],
      "metadata": {
        "colab": {
          "base_uri": "https://localhost:8080/"
        },
        "id": "9rW3wzPOd0Xe",
        "outputId": "89b97315-460e-43d6-b0f0-a4ccf57c1b26"
      },
      "execution_count": null,
      "outputs": [
        {
          "output_type": "stream",
          "name": "stdout",
          "text": [
            "{'ID': 'R01239', 'NumCode': '978', 'CharCode': 'EUR', 'Nominal': 1, 'Name': 'Евро', 'Value': 59.1204, 'Previous': 59.2481}\n",
            "{'ID': 'R01239', 'NumCode': '978', 'CharCode': 'EUR', 'Nominal': 1, 'Name': 'Евро', 'Difference': -0.12770000000000437}\n",
            "{'ID': 'R01239', 'NumCode': '978', 'CharCode': 'EUR', 'Nominal': 1, 'Name': 'Евро', 'Value': 59.1204, 'Previous': 59.2481}\n"
          ]
        }
      ]
    },
    {
      "cell_type": "code",
      "source": [
        "# 3-ье Задание\n",
        "\n",
        "class Employee:\n",
        "  def __init__(self, name, seniority):\n",
        "    self.name = name\n",
        "    self.seniority = seniority\n",
        "\n",
        "    self.grade = 1\n",
        "\n",
        "  def grade_up(self):\n",
        "    self.grade +=1\n",
        "\n",
        "  def publish_grade(self):\n",
        "    print(self.name, self.grade)\n",
        "\n",
        "  def seniority_up(self, pts):         # увеличивает seniority на pts значений (как grade_up)\n",
        "    self.seniority += pts\n",
        "  \n",
        "  def check_if_it_is_time_to_upgrade(self):\n",
        "    pass"
      ],
      "metadata": {
        "id": "u63W3qWH4MZM"
      },
      "execution_count": null,
      "outputs": []
    },
    {
      "cell_type": "code",
      "source": [
        "class Designer(Employee):\n",
        "  def __init__(self, name, seniority, international_award):\n",
        "    super().__init__(name, seniority)\n",
        "    self.international_award = international_award                  # межд. награды\n",
        "    self.give_seniority_international_award(international_award)    # начисление seniority от кол-ва межд. наград при инициализации\n",
        "\n",
        "  def check_if_it_is_time_to_upgrade(self):                         # проверка на каждые 7 seniority для grade_up\n",
        "      if self.seniority % 7 == 0:\n",
        "        self.grade_up()\n",
        "\n",
        "  def give_seniority_international_award(self, count):              # начисление seniority от кол-ва межд. наград \n",
        "    self.seniority_up(2 * count)\n",
        "\n",
        "  def print_(self):\n",
        "    print(f'{self.name}, {self.seniority}, {self.grade}')"
      ],
      "metadata": {
        "id": "2nZ3Wcv2T2rS"
      },
      "execution_count": null,
      "outputs": []
    },
    {
      "cell_type": "code",
      "source": [
        "alex = Designer('Alex', 0, 2)\n",
        "#alex.give_international_award(2)\n",
        "\n",
        "for i in range(21):\n",
        "  alex.seniority_up(1)\n",
        "  alex.check_if_it_is_time_to_upgrade()\n",
        "  alex.print_()"
      ],
      "metadata": {
        "colab": {
          "base_uri": "https://localhost:8080/"
        },
        "id": "yNHMbWeTVBR8",
        "outputId": "b48f8e94-b7a3-4f7c-e500-f66ac83166e9"
      },
      "execution_count": null,
      "outputs": [
        {
          "output_type": "stream",
          "name": "stdout",
          "text": [
            "Alex, 5, 1\n",
            "Alex, 6, 1\n",
            "Alex, 7, 2\n",
            "Alex, 8, 2\n",
            "Alex, 9, 2\n",
            "Alex, 10, 2\n",
            "Alex, 11, 2\n",
            "Alex, 12, 2\n",
            "Alex, 13, 2\n",
            "Alex, 14, 3\n",
            "Alex, 15, 3\n",
            "Alex, 16, 3\n",
            "Alex, 17, 3\n",
            "Alex, 18, 3\n",
            "Alex, 19, 3\n",
            "Alex, 20, 3\n",
            "Alex, 21, 4\n",
            "Alex, 22, 4\n",
            "Alex, 23, 4\n",
            "Alex, 24, 4\n",
            "Alex, 25, 4\n"
          ]
        }
      ]
    }
  ]
}